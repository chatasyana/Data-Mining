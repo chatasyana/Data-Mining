{
  "nbformat": 4,
  "nbformat_minor": 0,
  "metadata": {
    "colab": {
      "name": "NaiveBayes_data_petugas.ipynb",
      "provenance": [],
      "collapsed_sections": [],
      "authorship_tag": "ABX9TyOBRqUNFv5RbJzMFAHZ1sbB",
      "include_colab_link": true
    },
    "kernelspec": {
      "name": "python3",
      "display_name": "Python 3"
    },
    "language_info": {
      "name": "python"
    }
  },
  "cells": [
    {
      "cell_type": "markdown",
      "metadata": {
        "id": "view-in-github",
        "colab_type": "text"
      },
      "source": [
        "<a href=\"https://colab.research.google.com/github/chatasyana/Data-Mining/blob/main/NaiveBayes_data_petugas.ipynb\" target=\"_parent\"><img src=\"https://colab.research.google.com/assets/colab-badge.svg\" alt=\"Open In Colab\"/></a>"
      ]
    },
    {
      "cell_type": "code",
      "metadata": {
        "id": "D50OXum-Sved"
      },
      "source": [
        "import numpy as np\n",
        "import matplotlib.pyplot as plt\n",
        "import pandas as pd"
      ],
      "execution_count": 36,
      "outputs": []
    },
    {
      "cell_type": "code",
      "metadata": {
        "id": "yFBBvKwYTGcG"
      },
      "source": [
        "dataset = pd.read_csv('data_petugas.csv')\n",
        "X = dataset.iloc[:, [2, 3]].values\n",
        "y = dataset.iloc[:, -1].values"
      ],
      "execution_count": 37,
      "outputs": []
    },
    {
      "cell_type": "code",
      "metadata": {
        "id": "4stHfMcDUJs0"
      },
      "source": [
        "print(X)"
      ],
      "execution_count": null,
      "outputs": []
    },
    {
      "cell_type": "code",
      "metadata": {
        "colab": {
          "base_uri": "https://localhost:8080/"
        },
        "id": "PEXdlAXnWryW",
        "outputId": "773f787c-7441-4e74-e76f-0b22eb33ee4d"
      },
      "source": [
        "print(y)"
      ],
      "execution_count": 39,
      "outputs": [
        {
          "output_type": "stream",
          "text": [
            "[1 1 1 0 0 0 1 1 1 1 1 1 1 1 1 1 0 0 0 0 1 0 1 0 1 1 1 1 0 0 0 1 1 0 0 0 1\n",
            " 1 1 1 1 1 1 1 1 1 0 0 0 0 1 0 1 0 1 1 1 1 0 0 0 1 1 0 0 0 1 1 1 1 1 1 1 1\n",
            " 1 1 0 0 0 0 1 0 1 0 1 1 1 1 0 0 0 1 1 0 0 0 1 1 1 1 1 1 1 1 1 1 0 0 0 0 1\n",
            " 0 1 0 1 1 1 1 0 0 0 1 1 0 0 0 1 1 1 1 1 1 1 1 1 1 0 0 0 0 1 0 1 0 1 1 1 1\n",
            " 0 0 0 1 1 0 0 0 1 1 1 1 1 1 1 1 1 1 0 0 0 0 1 0 1 0 1 1 1 1 0 0 0 1 1 0 0\n",
            " 0 1 1 1 1 1 1 1 1 1 1 0 0 0 0 1 0 1 0 1 1 1 1 0 0 0 1 1 0 0 0 1 1 1 1 1 1\n",
            " 1 1 1 1 0 0 0 0 1 0 1 0 1 1 1 1 0 0 0 1 1 0 0 0 1 1 1 1 1 1 1 1 1 1 0 0 0\n",
            " 0 1 0 1 0 1 1 1 1 0 0 0 1 1 0 0 0 1 1 1 1 1 1 1 1 1 1 0 0 0 0 1 0 1 0 1 1\n",
            " 1 1 0 0 0 1 1 0 0 0 1 1 1 1 1 1 1 1 1 1 0 0 0 0 1 0 1 0 1 1 1 1 0 0 0 1 1\n",
            " 0 0 0 1 1 1 1 1 1 1 1 1 1 0 0 0 0 1 0 1 0 1 1 1 1 0 0 0 1 1 0 0 0 1 1 1 1\n",
            " 1 1 1 1 1 1 0 0 0 0 1 0 1 0 1 1 1 1 0 0 0 1 1 0 0 0 1 1 1 1 1 1 1 1 1 1 0\n",
            " 0 0 0 1 0 1 0 1 1 1 1 0 0 0 1 1 0 0 0 1 1 1 1 1 1 1 1 1 1 0 0 0 0 1 0 1 0\n",
            " 1 1 1 1 0 0 0 1 1 0 0 0 1 1 1 1 1 1 1 1 1 1 0 0 0 0 1 0 1 0 1 1 1 1 0 0 0\n",
            " 1 1 0 0 0 1 1 1 1 1 1 1 1 1 1 0 0 0 0 1]\n"
          ],
          "name": "stdout"
        }
      ]
    },
    {
      "cell_type": "code",
      "metadata": {
        "id": "xSQykJwDWu-F"
      },
      "source": [
        "from sklearn.model_selection import train_test_split\n",
        "X_train, X_test, y_train, y_test = train_test_split(X, y, test_size = 0.30, random_state = 0)"
      ],
      "execution_count": 40,
      "outputs": []
    },
    {
      "cell_type": "code",
      "metadata": {
        "id": "49RPH7nMW0il"
      },
      "source": [
        "print(X_train)"
      ],
      "execution_count": null,
      "outputs": []
    },
    {
      "cell_type": "code",
      "metadata": {
        "colab": {
          "base_uri": "https://localhost:8080/"
        },
        "id": "qU6r2cFwW5iI",
        "outputId": "185e98dd-2d1a-4aac-989c-7fd35ff12411"
      },
      "source": [
        "print(y_train)"
      ],
      "execution_count": 42,
      "outputs": [
        {
          "output_type": "stream",
          "text": [
            "[1 1 1 1 1 1 1 0 1 0 1 0 1 0 0 1 0 1 0 1 1 0 0 0 1 1 0 0 0 0 1 0 1 0 1 1 1\n",
            " 0 0 1 1 0 0 1 1 1 1 0 0 1 1 0 0 0 1 1 1 1 1 1 1 1 0 1 0 0 1 1 1 0 1 1 1 0\n",
            " 1 1 1 1 0 1 0 0 1 1 0 1 0 1 0 1 1 1 1 0 1 1 1 1 0 1 1 0 1 1 1 1 0 1 1 1 1\n",
            " 0 0 0 1 1 1 1 1 1 0 1 1 0 0 1 1 0 0 1 0 1 1 0 1 1 0 1 1 1 1 1 0 0 0 0 1 0\n",
            " 0 0 1 0 1 0 1 1 0 1 0 0 1 1 0 1 0 1 0 0 0 1 1 1 0 0 1 1 1 0 0 1 0 0 1 0 1\n",
            " 0 1 0 0 0 0 0 0 1 0 1 1 1 1 0 1 1 1 1 1 1 0 1 0 1 0 1 1 1 0 1 1 0 1 1 0 1\n",
            " 1 1 0 1 1 1 0 0 1 0 1 0 0 0 0 0 0 1 0 0 1 1 1 1 0 0 0 0 0 1 1 1 0 1 1 0 1\n",
            " 1 0 1 1 0 1 1 1 1 0 0 0 1 0 0 0 1 1 1 0 1 0 1 1 0 0 0 0 1 1 0 0 1 1 1 0 1\n",
            " 1 1 1 0 0 0 0 0 1 1 1 1 0 1 1 1 0 1 0 0 0 1 1 1 1 1 0 1 1 1 0 1 1 1 1 1 1\n",
            " 0 1 1 1 1 1 1 1 1 0 1 1 0 1 1 0 1]\n"
          ],
          "name": "stdout"
        }
      ]
    },
    {
      "cell_type": "code",
      "metadata": {
        "colab": {
          "base_uri": "https://localhost:8080/"
        },
        "id": "188AUZWFW-K7",
        "outputId": "4d02e3b7-1bb4-4e08-a12e-8c45b6115ece"
      },
      "source": [
        "print(X_test)"
      ],
      "execution_count": 43,
      "outputs": [
        {
          "output_type": "stream",
          "text": [
            "[[160  51]\n",
            " [165  56]\n",
            " [165  56]\n",
            " [176  60]\n",
            " [173  53]\n",
            " [167  55]\n",
            " [160  58]\n",
            " [170  54]\n",
            " [173  53]\n",
            " [157  49]\n",
            " [165  50]\n",
            " [176  58]\n",
            " [166  55]\n",
            " [164  54]\n",
            " [162  56]\n",
            " [178  65]\n",
            " [164  54]\n",
            " [180  65]\n",
            " [160  53]\n",
            " [168  51]\n",
            " [173  56]\n",
            " [168  51]\n",
            " [160  51]\n",
            " [162  63]\n",
            " [167  55]\n",
            " [165  50]\n",
            " [162  56]\n",
            " [162  51]\n",
            " [166  55]\n",
            " [168  60]\n",
            " [165  56]\n",
            " [167  55]\n",
            " [160  53]\n",
            " [178  57]\n",
            " [167  55]\n",
            " [160  51]\n",
            " [180  65]\n",
            " [160  51]\n",
            " [173  56]\n",
            " [167  55]\n",
            " [162  63]\n",
            " [157  61]\n",
            " [168  58]\n",
            " [178  57]\n",
            " [157  61]\n",
            " [165  50]\n",
            " [157  49]\n",
            " [176  60]\n",
            " [157  45]\n",
            " [180  65]\n",
            " [160  53]\n",
            " [168  58]\n",
            " [167  55]\n",
            " [170  65]\n",
            " [180  65]\n",
            " [180  65]\n",
            " [157  45]\n",
            " [168  60]\n",
            " [165  56]\n",
            " [166  55]\n",
            " [162  63]\n",
            " [176  58]\n",
            " [173  53]\n",
            " [166  55]\n",
            " [167  54]\n",
            " [157  61]\n",
            " [176  58]\n",
            " [167  55]\n",
            " [167  54]\n",
            " [167  55]\n",
            " [166  63]\n",
            " [162  51]\n",
            " [157  49]\n",
            " [176  58]\n",
            " [173  56]\n",
            " [157  49]\n",
            " [165  50]\n",
            " [176  58]\n",
            " [180  65]\n",
            " [160  51]\n",
            " [165  50]\n",
            " [173  56]\n",
            " [160  53]\n",
            " [173  53]\n",
            " [166  63]\n",
            " [178  65]\n",
            " [167  54]\n",
            " [168  51]\n",
            " [170  54]\n",
            " [170  65]\n",
            " [176  58]\n",
            " [183  52]\n",
            " [165  50]\n",
            " [168  58]\n",
            " [157  45]\n",
            " [178  57]\n",
            " [176  60]\n",
            " [162  56]\n",
            " [160  51]\n",
            " [167  55]\n",
            " [160  58]\n",
            " [178  57]\n",
            " [178  57]\n",
            " [173  56]\n",
            " [166  55]\n",
            " [168  60]\n",
            " [168  60]\n",
            " [176  60]\n",
            " [160  51]\n",
            " [162  51]\n",
            " [162  63]\n",
            " [168  51]\n",
            " [160  58]\n",
            " [170  54]\n",
            " [180  65]\n",
            " [183  52]\n",
            " [168  60]\n",
            " [170  54]\n",
            " [160  51]\n",
            " [170  54]\n",
            " [167  55]\n",
            " [164  54]\n",
            " [165  56]\n",
            " [166  55]\n",
            " [173  53]\n",
            " [157  45]\n",
            " [157  45]\n",
            " [173  56]\n",
            " [167  54]\n",
            " [166  63]\n",
            " [166  55]\n",
            " [164  54]\n",
            " [183  52]\n",
            " [173  56]\n",
            " [165  56]\n",
            " [178  57]\n",
            " [173  53]\n",
            " [180  65]\n",
            " [160  53]\n",
            " [166  55]\n",
            " [165  56]\n",
            " [166  63]\n",
            " [165  56]\n",
            " [176  60]\n",
            " [173  53]\n",
            " [160  53]\n",
            " [164  54]\n",
            " [167  54]\n",
            " [162  51]\n",
            " [162  51]\n",
            " [162  56]]\n"
          ],
          "name": "stdout"
        }
      ]
    },
    {
      "cell_type": "code",
      "metadata": {
        "colab": {
          "base_uri": "https://localhost:8080/"
        },
        "id": "N4-35MUZXB54",
        "outputId": "7d47c54b-9dcb-411a-8acd-94ba325ea023"
      },
      "source": [
        "print(y_test)"
      ],
      "execution_count": 44,
      "outputs": [
        {
          "output_type": "stream",
          "text": [
            "[0 1 1 1 1 1 0 1 1 0 1 1 1 0 0 1 0 1 0 1 1 1 0 0 1 1 0 0 1 0 1 0 0 1 1 0 1\n",
            " 0 1 0 0 0 1 1 0 1 0 1 0 1 0 1 0 1 1 1 0 0 1 1 0 1 1 1 1 0 1 1 1 1 1 0 0 1\n",
            " 1 0 1 1 1 0 1 1 0 1 1 1 1 1 1 1 1 1 1 1 0 1 1 0 0 0 0 1 1 1 1 0 0 1 0 0 0\n",
            " 1 0 1 1 1 0 1 0 1 0 0 1 1 1 0 0 1 1 1 1 0 1 1 1 1 1 1 0 1 1 1 1 1 1 0 0 1\n",
            " 0 0 0]\n"
          ],
          "name": "stdout"
        }
      ]
    },
    {
      "cell_type": "code",
      "metadata": {
        "id": "NEutGvRgXEwS"
      },
      "source": [
        "from sklearn.preprocessing import StandardScaler\n",
        "sc = StandardScaler()\n",
        "X_train = sc.fit_transform(X_train)\n",
        "X_test = sc.transform(X_test)"
      ],
      "execution_count": 45,
      "outputs": []
    },
    {
      "cell_type": "code",
      "metadata": {
        "colab": {
          "base_uri": "https://localhost:8080/"
        },
        "id": "gXCoustPXI0a",
        "outputId": "ab11d04c-74b9-48cb-e3d7-f0cf03eccad3"
      },
      "source": [
        "print(X_test)"
      ],
      "execution_count": 46,
      "outputs": [
        {
          "output_type": "stream",
          "text": [
            "[[-1.05491649 -1.03942217]\n",
            " [-0.34487654 -0.04706603]\n",
            " [-0.34487654 -0.04706603]\n",
            " [ 1.21721133  0.74681888]\n",
            " [ 0.79118737 -0.64247972]\n",
            " [-0.06086057 -0.24553726]\n",
            " [-1.05491649  0.34987642]\n",
            " [ 0.3651634  -0.44400849]\n",
            " [ 0.79118737 -0.64247972]\n",
            " [-1.48094045 -1.43636463]\n",
            " [-0.34487654 -1.2378934 ]\n",
            " [ 1.21721133  0.34987642]\n",
            " [-0.20286856 -0.24553726]\n",
            " [-0.48688453 -0.44400849]\n",
            " [-0.77090051 -0.04706603]\n",
            " [ 1.50122731  1.73917501]\n",
            " [-0.48688453 -0.44400849]\n",
            " [ 1.78524329  1.73917501]\n",
            " [-1.05491649 -0.64247972]\n",
            " [ 0.08114742 -1.03942217]\n",
            " [ 0.79118737 -0.04706603]\n",
            " [ 0.08114742 -1.03942217]\n",
            " [-1.05491649 -1.03942217]\n",
            " [-0.77090051  1.34223256]\n",
            " [-0.06086057 -0.24553726]\n",
            " [-0.34487654 -1.2378934 ]\n",
            " [-0.77090051 -0.04706603]\n",
            " [-0.77090051 -1.03942217]\n",
            " [-0.20286856 -0.24553726]\n",
            " [ 0.08114742  0.74681888]\n",
            " [-0.34487654 -0.04706603]\n",
            " [-0.06086057 -0.24553726]\n",
            " [-1.05491649 -0.64247972]\n",
            " [ 1.50122731  0.15140519]\n",
            " [-0.06086057 -0.24553726]\n",
            " [-1.05491649 -1.03942217]\n",
            " [ 1.78524329  1.73917501]\n",
            " [-1.05491649 -1.03942217]\n",
            " [ 0.79118737 -0.04706603]\n",
            " [-0.06086057 -0.24553726]\n",
            " [-0.77090051  1.34223256]\n",
            " [-1.48094045  0.9452901 ]\n",
            " [ 0.08114742  0.34987642]\n",
            " [ 1.50122731  0.15140519]\n",
            " [-1.48094045  0.9452901 ]\n",
            " [-0.34487654 -1.2378934 ]\n",
            " [-1.48094045 -1.43636463]\n",
            " [ 1.21721133  0.74681888]\n",
            " [-1.48094045 -2.23024953]\n",
            " [ 1.78524329  1.73917501]\n",
            " [-1.05491649 -0.64247972]\n",
            " [ 0.08114742  0.34987642]\n",
            " [-0.06086057 -0.24553726]\n",
            " [ 0.3651634   1.73917501]\n",
            " [ 1.78524329  1.73917501]\n",
            " [ 1.78524329  1.73917501]\n",
            " [-1.48094045 -2.23024953]\n",
            " [ 0.08114742  0.74681888]\n",
            " [-0.34487654 -0.04706603]\n",
            " [-0.20286856 -0.24553726]\n",
            " [-0.77090051  1.34223256]\n",
            " [ 1.21721133  0.34987642]\n",
            " [ 0.79118737 -0.64247972]\n",
            " [-0.20286856 -0.24553726]\n",
            " [-0.06086057 -0.44400849]\n",
            " [-1.48094045  0.9452901 ]\n",
            " [ 1.21721133  0.34987642]\n",
            " [-0.06086057 -0.24553726]\n",
            " [-0.06086057 -0.44400849]\n",
            " [-0.06086057 -0.24553726]\n",
            " [-0.20286856  1.34223256]\n",
            " [-0.77090051 -1.03942217]\n",
            " [-1.48094045 -1.43636463]\n",
            " [ 1.21721133  0.34987642]\n",
            " [ 0.79118737 -0.04706603]\n",
            " [-1.48094045 -1.43636463]\n",
            " [-0.34487654 -1.2378934 ]\n",
            " [ 1.21721133  0.34987642]\n",
            " [ 1.78524329  1.73917501]\n",
            " [-1.05491649 -1.03942217]\n",
            " [-0.34487654 -1.2378934 ]\n",
            " [ 0.79118737 -0.04706603]\n",
            " [-1.05491649 -0.64247972]\n",
            " [ 0.79118737 -0.64247972]\n",
            " [-0.20286856  1.34223256]\n",
            " [ 1.50122731  1.73917501]\n",
            " [-0.06086057 -0.44400849]\n",
            " [ 0.08114742 -1.03942217]\n",
            " [ 0.3651634  -0.44400849]\n",
            " [ 0.3651634   1.73917501]\n",
            " [ 1.21721133  0.34987642]\n",
            " [ 2.21126725 -0.84095094]\n",
            " [-0.34487654 -1.2378934 ]\n",
            " [ 0.08114742  0.34987642]\n",
            " [-1.48094045 -2.23024953]\n",
            " [ 1.50122731  0.15140519]\n",
            " [ 1.21721133  0.74681888]\n",
            " [-0.77090051 -0.04706603]\n",
            " [-1.05491649 -1.03942217]\n",
            " [-0.06086057 -0.24553726]\n",
            " [-1.05491649  0.34987642]\n",
            " [ 1.50122731  0.15140519]\n",
            " [ 1.50122731  0.15140519]\n",
            " [ 0.79118737 -0.04706603]\n",
            " [-0.20286856 -0.24553726]\n",
            " [ 0.08114742  0.74681888]\n",
            " [ 0.08114742  0.74681888]\n",
            " [ 1.21721133  0.74681888]\n",
            " [-1.05491649 -1.03942217]\n",
            " [-0.77090051 -1.03942217]\n",
            " [-0.77090051  1.34223256]\n",
            " [ 0.08114742 -1.03942217]\n",
            " [-1.05491649  0.34987642]\n",
            " [ 0.3651634  -0.44400849]\n",
            " [ 1.78524329  1.73917501]\n",
            " [ 2.21126725 -0.84095094]\n",
            " [ 0.08114742  0.74681888]\n",
            " [ 0.3651634  -0.44400849]\n",
            " [-1.05491649 -1.03942217]\n",
            " [ 0.3651634  -0.44400849]\n",
            " [-0.06086057 -0.24553726]\n",
            " [-0.48688453 -0.44400849]\n",
            " [-0.34487654 -0.04706603]\n",
            " [-0.20286856 -0.24553726]\n",
            " [ 0.79118737 -0.64247972]\n",
            " [-1.48094045 -2.23024953]\n",
            " [-1.48094045 -2.23024953]\n",
            " [ 0.79118737 -0.04706603]\n",
            " [-0.06086057 -0.44400849]\n",
            " [-0.20286856  1.34223256]\n",
            " [-0.20286856 -0.24553726]\n",
            " [-0.48688453 -0.44400849]\n",
            " [ 2.21126725 -0.84095094]\n",
            " [ 0.79118737 -0.04706603]\n",
            " [-0.34487654 -0.04706603]\n",
            " [ 1.50122731  0.15140519]\n",
            " [ 0.79118737 -0.64247972]\n",
            " [ 1.78524329  1.73917501]\n",
            " [-1.05491649 -0.64247972]\n",
            " [-0.20286856 -0.24553726]\n",
            " [-0.34487654 -0.04706603]\n",
            " [-0.20286856  1.34223256]\n",
            " [-0.34487654 -0.04706603]\n",
            " [ 1.21721133  0.74681888]\n",
            " [ 0.79118737 -0.64247972]\n",
            " [-1.05491649 -0.64247972]\n",
            " [-0.48688453 -0.44400849]\n",
            " [-0.06086057 -0.44400849]\n",
            " [-0.77090051 -1.03942217]\n",
            " [-0.77090051 -1.03942217]\n",
            " [-0.77090051 -0.04706603]]\n"
          ],
          "name": "stdout"
        }
      ]
    },
    {
      "cell_type": "code",
      "metadata": {
        "colab": {
          "base_uri": "https://localhost:8080/"
        },
        "id": "tluTJqGUXMwq",
        "outputId": "414ba1c3-362d-4906-b269-9201d41be42e"
      },
      "source": [
        "from sklearn.naive_bayes import GaussianNB\n",
        "classifier = GaussianNB()\n",
        "classifier.fit(X_train, y_train)"
      ],
      "execution_count": 47,
      "outputs": [
        {
          "output_type": "execute_result",
          "data": {
            "text/plain": [
              "GaussianNB(priors=None, var_smoothing=1e-09)"
            ]
          },
          "metadata": {
            "tags": []
          },
          "execution_count": 47
        }
      ]
    },
    {
      "cell_type": "code",
      "metadata": {
        "id": "I0mXH-0fXQrB"
      },
      "source": [
        "y_pred = classifier.predict(X_test)"
      ],
      "execution_count": 48,
      "outputs": []
    },
    {
      "cell_type": "code",
      "metadata": {
        "colab": {
          "base_uri": "https://localhost:8080/"
        },
        "id": "0OLUkB8gXTID",
        "outputId": "ea44e867-ccd6-4036-8edd-1562e77f51c3"
      },
      "source": [
        "from sklearn.metrics import confusion_matrix\n",
        "cm = confusion_matrix(y_test, y_pred)\n",
        "print(cm)"
      ],
      "execution_count": 49,
      "outputs": [
        {
          "output_type": "stream",
          "text": [
            "[[47 10]\n",
            " [14 80]]\n"
          ],
          "name": "stdout"
        }
      ]
    },
    {
      "cell_type": "code",
      "metadata": {
        "colab": {
          "base_uri": "https://localhost:8080/",
          "height": 349
        },
        "id": "BWMBGoh6XXPk",
        "outputId": "27b519dc-d056-45c7-cd4a-39e0e779e169"
      },
      "source": [
        "from matplotlib.colors import ListedColormap\n",
        "X_set, y_set = X_train, y_train\n",
        "X1,X2 = np.meshgrid(np.arange(start = X_set[:, 0].min() - 1, stop = X_set[:, 0].max() + 1, step = 0.01),\n",
        "                    np.arange(start = X_set[:, 1].min() - 1, stop = X_set[:, 1].max() + 1, step = 0.01))\n",
        "plt.contourf(X1, X2, classifier.predict(np.array([X1.ravel(), X2.ravel()]).T).reshape(X1.shape),\n",
        "             alpha = 0.70, cmap = ListedColormap(('red', 'green')))\n",
        "plt.xlim(X1.min(), X1.max())\n",
        "plt.ylim(X2.min(), X2.max())\n",
        "for i, j in enumerate(np.unique(y_set)):\n",
        "  plt.scatter(X_set[y_set == j, 0], X_set[y_set == j, 1],\n",
        "              c = ListedColormap(('red', 'green'))(i), label = j)\n",
        "plt.title('Naive Bayes Petugas (Training set)')\n",
        "plt.xlabel('Tinggi Badan')\n",
        "plt.ylabel('Berat Badan')\n",
        "plt.legend()\n",
        "plt.show()"
      ],
      "execution_count": 50,
      "outputs": [
        {
          "output_type": "stream",
          "text": [
            "*c* argument looks like a single numeric RGB or RGBA sequence, which should be avoided as value-mapping will have precedence in case its length matches with *x* & *y*.  Please use the *color* keyword-argument or provide a 2-D array with a single row if you intend to specify the same RGB or RGBA value for all points.\n",
            "*c* argument looks like a single numeric RGB or RGBA sequence, which should be avoided as value-mapping will have precedence in case its length matches with *x* & *y*.  Please use the *color* keyword-argument or provide a 2-D array with a single row if you intend to specify the same RGB or RGBA value for all points.\n"
          ],
          "name": "stderr"
        },
        {
          "output_type": "display_data",
          "data": {
            "image/png": "[encoded data removed]",
            "text/plain": [
              "<Figure size 432x288 with 1 Axes>"
            ]
          },
          "metadata": {
            "tags": [],
            "needs_background": "light"
          }
        }
      ]
    },
    {
      "cell_type": "code",
      "metadata": {
        "colab": {
          "base_uri": "https://localhost:8080/",
          "height": 349
        },
        "id": "nkfimY1vXsh-",
        "outputId": "cba8a7cd-4619-4749-86a9-ec6c842fbc8d"
      },
      "source": [
        "from matplotlib.colors import ListedColormap\n",
        "X_set, y_set = X_test, y_test\n",
        "X1,X2 = np.meshgrid(np.arange(start = X_set[:, 0].min() - 1, stop = X_set[:, 0].max() + 1, step = 0.01),\n",
        "                    np.arange(start = X_set[:, 1].min() - 1, stop = X_set[:, 1].max() + 1, step = 0.01))\n",
        "plt.contourf(X1, X2, classifier.predict(np.array([X1.ravel(), X2.ravel()]).T).reshape(X1.shape),\n",
        "             alpha = 0.70, cmap = ListedColormap(('red', 'green')))\n",
        "plt.xlim(X1.min(), X1.max())\n",
        "plt.ylim(X2.min(), X2.max())\n",
        "for i, j in enumerate(np.unique(y_set)):\n",
        "  plt.scatter(X_set[y_set == j, 0], X_set[y_set == j, 1],\n",
        "              c = ListedColormap(('red', 'green'))(i), label = j)\n",
        "plt.title('Naive Bayes Petugas (Test set)')\n",
        "plt.xlabel('Tinggi Badan')\n",
        "plt.ylabel('Berat Badan')\n",
        "plt.legend()\n",
        "plt.show()"
      ],
      "execution_count": 51,
      "outputs": [
        {
          "output_type": "stream",
          "text": [
            "*c* argument looks like a single numeric RGB or RGBA sequence, which should be avoided as value-mapping will have precedence in case its length matches with *x* & *y*.  Please use the *color* keyword-argument or provide a 2-D array with a single row if you intend to specify the same RGB or RGBA value for all points.\n",
            "*c* argument looks like a single numeric RGB or RGBA sequence, which should be avoided as value-mapping will have precedence in case its length matches with *x* & *y*.  Please use the *color* keyword-argument or provide a 2-D array with a single row if you intend to specify the same RGB or RGBA value for all points.\n"
          ],
          "name": "stderr"
        },
        {
          "output_type": "display_data",
          "data": {
            "image/png": "[encoded data removed]",
            "text/plain": [
              "<Figure size 432x288 with 1 Axes>"
            ]
          },
          "metadata": {
            "tags": [],
            "needs_background": "light"
          }
        }
      ]
    }
  ]
}