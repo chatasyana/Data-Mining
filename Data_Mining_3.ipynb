{
  "nbformat": 4,
  "nbformat_minor": 0,
  "metadata": {
    "colab": {
      "name": "Data Mining 3.ipynb",
      "provenance": [],
      "authorship_tag": "ABX9TyN90B/Nl2j35yunNPRGZv5u"
    },
    "kernelspec": {
      "name": "python3",
      "display_name": "Python 3"
    }
  },
  "cells": [
    {
      "cell_type": "code",
      "metadata": {
        "id": "9AZoITC6sVev"
      },
      "source": [
        "import numpy as np\r\n",
        "import matplotlib.pyplot as plt\r\n",
        "import pandas as pd"
      ],
      "execution_count": null,
      "outputs": []
    },
    {
      "cell_type": "code",
      "metadata": {
        "id": "_NkAbg7W1hCI"
      },
      "source": [
        "dataset = pd.read_csv('Data.csv')\r\n",
        "x = dataset.iloc[:, :-1].values\r\n",
        "y = dataset.iloc[:, -1].values"
      ],
      "execution_count": null,
      "outputs": []
    },
    {
      "cell_type": "code",
      "metadata": {
        "colab": {
          "base_uri": "https://localhost:8080/"
        },
        "id": "Bwx_d3zd1qHv",
        "outputId": "15638b0b-e836-4d33-8569-05e7459ce14c"
      },
      "source": [
        "print (x)"
      ],
      "execution_count": null,
      "outputs": [
        {
          "output_type": "stream",
          "text": [
            "[['Kursi' 2 72000]\n",
            " ['Meja' 3 150000]\n",
            " ['Lemari' 1 500000]\n",
            " ['Kursi' 2 72000]\n",
            " ['Meja' 3 150000]\n",
            " ['Lemari' 1 500000]\n",
            " ['Kursi' 2 72000]\n",
            " ['Meja' 3 150000]\n",
            " ['Lemari' 1 500000]\n",
            " ['Kursi' 2 72000]]\n"
          ],
          "name": "stdout"
        }
      ]
    },
    {
      "cell_type": "code",
      "metadata": {
        "colab": {
          "base_uri": "https://localhost:8080/"
        },
        "id": "O8Rtuywv1wbG",
        "outputId": "893ef31f-3658-462d-f907-6de3f8b8a683"
      },
      "source": [
        "print (y)"
      ],
      "execution_count": null,
      "outputs": [
        {
          "output_type": "stream",
          "text": [
            "['No' 'Yes' 'Yes' 'No' 'No' 'Yes' 'Yes' 'No' 'No' 'Yes']\n"
          ],
          "name": "stdout"
        }
      ]
    },
    {
      "cell_type": "code",
      "metadata": {
        "id": "kt5mUd4k12bd"
      },
      "source": [
        "from sklearn.impute import SimpleImputer\r\n",
        "imputer = SimpleImputer(missing_values=np.nan, strategy='mean')\r\n",
        "imputer.fit(x[:, 1:3])\r\n",
        "x[:, 1:3] = imputer.transform(x[:, 1:3])"
      ],
      "execution_count": null,
      "outputs": []
    },
    {
      "cell_type": "code",
      "metadata": {
        "colab": {
          "base_uri": "https://localhost:8080/"
        },
        "id": "nDS4r8el16Ps",
        "outputId": "346823c3-d584-4e2d-f762-ba61db3406f3"
      },
      "source": [
        "print (x)"
      ],
      "execution_count": null,
      "outputs": [
        {
          "output_type": "stream",
          "text": [
            "[['Kursi' 2.0 72000.0]\n",
            " ['Meja' 3.0 150000.0]\n",
            " ['Lemari' 1.0 500000.0]\n",
            " ['Kursi' 2.0 72000.0]\n",
            " ['Meja' 3.0 150000.0]\n",
            " ['Lemari' 1.0 500000.0]\n",
            " ['Kursi' 2.0 72000.0]\n",
            " ['Meja' 3.0 150000.0]\n",
            " ['Lemari' 1.0 500000.0]\n",
            " ['Kursi' 2.0 72000.0]]\n"
          ],
          "name": "stdout"
        }
      ]
    },
    {
      "cell_type": "code",
      "metadata": {
        "id": "oAAECJt419PL"
      },
      "source": [
        "from sklearn.compose import ColumnTransformer\r\n",
        "from sklearn.preprocessing import OneHotEncoder\r\n",
        "ct = ColumnTransformer(transformers=[('encoder',OneHotEncoder(),[0])], remainder='passthrough')\r\n",
        "x = np.array(ct.fit_transform(x))"
      ],
      "execution_count": null,
      "outputs": []
    },
    {
      "cell_type": "code",
      "metadata": {
        "colab": {
          "base_uri": "https://localhost:8080/"
        },
        "id": "nH3RmZIa2C4s",
        "outputId": "58991cda-5fea-42c7-b057-35b4b233538f"
      },
      "source": [
        "print (x)"
      ],
      "execution_count": null,
      "outputs": [
        {
          "output_type": "stream",
          "text": [
            "[[1.0 0.0 0.0 2.0 72000.0]\n",
            " [0.0 0.0 1.0 3.0 150000.0]\n",
            " [0.0 1.0 0.0 1.0 500000.0]\n",
            " [1.0 0.0 0.0 2.0 72000.0]\n",
            " [0.0 0.0 1.0 3.0 150000.0]\n",
            " [0.0 1.0 0.0 1.0 500000.0]\n",
            " [1.0 0.0 0.0 2.0 72000.0]\n",
            " [0.0 0.0 1.0 3.0 150000.0]\n",
            " [0.0 1.0 0.0 1.0 500000.0]\n",
            " [1.0 0.0 0.0 2.0 72000.0]]\n"
          ],
          "name": "stdout"
        }
      ]
    },
    {
      "cell_type": "code",
      "metadata": {
        "id": "ND6Rv5692IGA"
      },
      "source": [
        "from sklearn.preprocessing import LabelEncoder\r\n",
        "le = LabelEncoder()\r\n",
        "y = le.fit_transform(y)"
      ],
      "execution_count": null,
      "outputs": []
    },
    {
      "cell_type": "code",
      "metadata": {
        "colab": {
          "base_uri": "https://localhost:8080/"
        },
        "id": "2zp2DL_U2LBO",
        "outputId": "bddf5d6e-40e4-450e-f0a2-cf4e60d69c77"
      },
      "source": [
        "print (y)"
      ],
      "execution_count": null,
      "outputs": [
        {
          "output_type": "stream",
          "text": [
            "[0 1 1 0 0 1 1 0 0 1]\n"
          ],
          "name": "stdout"
        }
      ]
    },
    {
      "cell_type": "code",
      "metadata": {
        "id": "SOIvxhSf2QZf"
      },
      "source": [
        "from sklearn.model_selection import train_test_split\r\n",
        "x_train, x_test, y_train, y_test = train_test_split(x, y, test_size = 0.2, random_state = 1)"
      ],
      "execution_count": null,
      "outputs": []
    },
    {
      "cell_type": "code",
      "metadata": {
        "colab": {
          "base_uri": "https://localhost:8080/"
        },
        "id": "Hi4Tsz122aJf",
        "outputId": "83086ea4-bc23-42ed-920d-37d1a1d75d9c"
      },
      "source": [
        "print (x_train)"
      ],
      "execution_count": null,
      "outputs": [
        {
          "output_type": "stream",
          "text": [
            "[[1.0 0.0 0.0 2.0 72000.0]\n",
            " [0.0 0.0 1.0 3.0 150000.0]\n",
            " [1.0 0.0 0.0 2.0 72000.0]\n",
            " [1.0 0.0 0.0 2.0 72000.0]\n",
            " [0.0 0.0 1.0 3.0 150000.0]\n",
            " [0.0 0.0 1.0 3.0 150000.0]\n",
            " [0.0 1.0 0.0 1.0 500000.0]\n",
            " [0.0 1.0 0.0 1.0 500000.0]]\n"
          ],
          "name": "stdout"
        }
      ]
    },
    {
      "cell_type": "code",
      "metadata": {
        "colab": {
          "base_uri": "https://localhost:8080/"
        },
        "id": "gySm_5Ah2d87",
        "outputId": "89329139-fac6-4553-e735-735d28afe8f0"
      },
      "source": [
        "print (x_test)"
      ],
      "execution_count": null,
      "outputs": [
        {
          "output_type": "stream",
          "text": [
            "[[0.0 1.0 0.0 1.0 500000.0]\n",
            " [1.0 0.0 0.0 2.0 72000.0]]\n"
          ],
          "name": "stdout"
        }
      ]
    },
    {
      "cell_type": "code",
      "metadata": {
        "colab": {
          "base_uri": "https://localhost:8080/"
        },
        "id": "RJzvW7NR2jJr",
        "outputId": "3a0866c7-8cb6-49fd-99bb-c540da2d2966"
      },
      "source": [
        "print (y_train)"
      ],
      "execution_count": null,
      "outputs": [
        {
          "output_type": "stream",
          "text": [
            "[1 0 0 0 1 0 0 1]\n"
          ],
          "name": "stdout"
        }
      ]
    },
    {
      "cell_type": "code",
      "metadata": {
        "colab": {
          "base_uri": "https://localhost:8080/"
        },
        "id": "zw9zQaIs2nsW",
        "outputId": "10611030-f814-4bae-f19f-90cea8d92a85"
      },
      "source": [
        "print (y_test)"
      ],
      "execution_count": null,
      "outputs": [
        {
          "output_type": "stream",
          "text": [
            "[1 1]\n"
          ],
          "name": "stdout"
        }
      ]
    },
    {
      "cell_type": "code",
      "metadata": {
        "id": "v_homDga2uR4"
      },
      "source": [
        "from sklearn.preprocessing import StandardScaler\r\n",
        "sc = StandardScaler()\r\n",
        "x_train[:, 3:] = sc.fit_transform(x_train[:, 3:])\r\n",
        "x_test[:, 3:] = sc.transform(x_test[:, 3:])"
      ],
      "execution_count": null,
      "outputs": []
    },
    {
      "cell_type": "code",
      "metadata": {
        "id": "hxyWmtsx2woK",
        "colab": {
          "base_uri": "https://localhost:8080/"
        },
        "outputId": "cc89a925-e93d-4862-c083-0ef30555ec12"
      },
      "source": [
        "print (x_train)"
      ],
      "execution_count": null,
      "outputs": [
        {
          "output_type": "stream",
          "text": [
            "[[1.0 0.0 0.0 -0.16012815380508713 -0.7930975587556829]\n",
            " [0.0 0.0 1.0 1.12089707663561 -0.33906739667903507]\n",
            " [1.0 0.0 0.0 -0.16012815380508713 -0.7930975587556829]\n",
            " [1.0 0.0 0.0 -0.16012815380508713 -0.7930975587556829]\n",
            " [0.0 0.0 1.0 1.12089707663561 -0.33906739667903507]\n",
            " [0.0 0.0 1.0 1.12089707663561 -0.33906739667903507]\n",
            " [0.0 1.0 0.0 -1.4411533842457842 1.698247433152077]\n",
            " [0.0 1.0 0.0 -1.4411533842457842 1.698247433152077]]\n"
          ],
          "name": "stdout"
        }
      ]
    },
    {
      "cell_type": "code",
      "metadata": {
        "id": "hW3nClYi20nD",
        "colab": {
          "base_uri": "https://localhost:8080/"
        },
        "outputId": "aad3ee71-6c3c-4612-efe8-1df7c77128d0"
      },
      "source": [
        "print (x_test)"
      ],
      "execution_count": null,
      "outputs": [
        {
          "output_type": "stream",
          "text": [
            "[[0.0 1.0 0.0 -1.4411533842457842 1.698247433152077]\n",
            " [1.0 0.0 0.0 -0.16012815380508713 -0.7930975587556829]]\n"
          ],
          "name": "stdout"
        }
      ]
    }
  ]
}