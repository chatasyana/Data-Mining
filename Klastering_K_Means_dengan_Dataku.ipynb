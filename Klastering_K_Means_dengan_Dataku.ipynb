{
  "nbformat": 4,
  "nbformat_minor": 0,
  "metadata": {
    "colab": {
      "name": "Klastering K-Means dengan Dataku.ipynb",
      "provenance": [],
      "authorship_tag": "ABX9TyOzWZe49cxAhv2R5BSpbPQT",
      "include_colab_link": true
    },
    "kernelspec": {
      "name": "python3",
      "display_name": "Python 3"
    },
    "language_info": {
      "name": "python"
    }
  },
  "cells": [
    {
      "cell_type": "markdown",
      "metadata": {
        "id": "view-in-github",
        "colab_type": "text"
      },
      "source": [
        "<a href=\"https://colab.research.google.com/github/chatasyana/Data-Mining/blob/main/Klastering_K_Means_dengan_Dataku.ipynb\" target=\"_parent\"><img src=\"https://colab.research.google.com/assets/colab-badge.svg\" alt=\"Open In Colab\"/></a>"
      ]
    },
    {
      "cell_type": "code",
      "metadata": {
        "id": "rs7XzBxvgwiK"
      },
      "source": [
        "import numpy as np\n",
        "from matplotlib import pyplot as plt\n",
        "from matplotlib.pyplot import cm\n",
        "import time\n",
        "import itertools"
      ],
      "execution_count": 3,
      "outputs": []
    },
    {
      "cell_type": "code",
      "metadata": {
        "id": "mrbayGgWhy0h"
      },
      "source": [
        "datasetPath = \"dataku.txt\"\n",
        "dataset = np.loadtxt(datasetPath, delimiter=\" \")"
      ],
      "execution_count": 4,
      "outputs": []
    },
    {
      "cell_type": "code",
      "metadata": {
        "id": "YR52A0OriLFf"
      },
      "source": [
        "k = 2\n",
        "iterationCounter = 0\n",
        "input = dataset"
      ],
      "execution_count": 5,
      "outputs": []
    },
    {
      "cell_type": "code",
      "metadata": {
        "id": "L-qVZ21uibeN"
      },
      "source": [
        "def initCentroid(dataIn, k):\n",
        "  result = dataIn[np.random.choice(dataIn.shape[0], k, replace=False)]\n",
        "  return result"
      ],
      "execution_count": 6,
      "outputs": []
    },
    {
      "cell_type": "code",
      "metadata": {
        "id": "a3z3TzbEi7l0"
      },
      "source": [
        "def plotClusterResult(listClusterMembers, centroid, iteration, converged):\n",
        "  n = listClusterMembers.__len__()\n",
        "  color = iter(cm.rainbow(np.linspace(0, 1, n)))\n",
        "  plt.figure(\"result\")\n",
        "  plt.clf()\n",
        "  plt.title(\"iteration-\" + iteration)\n",
        "  maker = itertools.cycle(('.', '*', '^', 'x', '+'))\n",
        "  for i in range(n):\n",
        "    col = next(color)\n",
        "    memberCluster = np.asmatrix(listClusterMembers[i])\n",
        "    plt.scatter(np.ravel(memberCluster[:, 0]), np.ravel(memberCluster[:, 1]), \n",
        "                marker=marker.__next__(), s=100, c=col, label=\"klaster-\"+str(i+1))\n",
        "  for i in range(n):\n",
        "    plt.scatter((centroid[i, 0]), (centroid[i, 1]), marker=marker.__next__()\n",
        "    , c=col, label=\"centroid-\" + str(i + 1))\n",
        "  if(converged == 0):\n",
        "    plt.legend()\n",
        "    plt.ion()\n",
        "    plt.show()\n",
        "    plt.pause(0.1)\n",
        "  if (converged == 1):\n",
        "    plt.legend()\n",
        "    plt.show(block=True)"
      ],
      "execution_count": 7,
      "outputs": []
    },
    {
      "cell_type": "code",
      "metadata": {
        "id": "aWwOn5CLmTQ1"
      },
      "source": [
        ""
      ],
      "execution_count": null,
      "outputs": []
    }
  ]
}